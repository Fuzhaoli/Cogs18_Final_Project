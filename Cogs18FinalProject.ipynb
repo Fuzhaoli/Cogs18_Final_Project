{
 "cells": [
  {
   "cell_type": "markdown",
   "metadata": {},
   "source": [
    "# Cogs18 Final Project: Chatbot\n",
    "## Ojective: \n",
    "My final project is designed to be a chatbot which could automatically reserve a ticket of Nishikido Ryo (a famous Japense singer) 's livehouse tour.\n",
    "\n",
    "## Description:\n",
    "This chatbot starts from greetings and could give users two choices between Tokyo and Osaka when users type words like 'reserve'. Then when users ask for the date for Tokyo or Osaka (by mentioning 'Tokyo' or 'Osaka' in the message), this chatbot shows available dates. After users choose a specific date (by typing the date they choose), they are asked to confirm this reservation. As users make their decisions (by typing words like 'yes'), a message like 'Success!' will show up. In addition, since many fans might ask about CD or fan meetings, this chatbot can also reply to such questions. When users ask about CD (by mentioning 'CD' in the message), it would inform users that CD are sold at the livehouse. When users ask about fan meeting (by mentioning 'fan meeting' in the message), it would tell that there is not any fan meeting. When users ask about information about other artists (by typing 'other'), this chatbot would emphasize that it is designed to reserve Nishikido Ryo's tickets."
   ]
  },
  {
   "cell_type": "code",
   "execution_count": 1,
   "metadata": {},
   "outputs": [],
   "source": [
    "import random\n",
    "from my_module.functions import *\n",
    "\n",
    "greeting_in = ['Hi', 'Hello', 'Nice to meet you', 'Hey']\n",
    "greeting_out = ['Hi', 'Hello', 'Nice to meet you', 'What can I do for you?']\n",
    "\n",
    "reserve_in = ['reserve', 'reservation', 'ticket', 'livehouse', 'tour']\n",
    "reserve_out = ['There are tickets for Tokyo.', 'There are tickets for Osaka.']\n",
    "\n",
    "confirm_in = ['sure', 'confirm', 'ok', 'yes']\n",
    "confirm_out = ['Thanks!', 'Success!', 'Complete!']\n",
    "\n",
    "undefined = ['hmmm', 'okay', 'yeah']"
   ]
  },
  {
   "cell_type": "code",
   "execution_count": 2,
   "metadata": {},
   "outputs": [],
   "source": [
    "def chat_with_me():\n",
    "    \"\"\"Main function to run this chatbot\"\"\"\n",
    "    \n",
    "    chatting = True\n",
    "    while chatting:\n",
    "        \n",
    "        #Get a message from the user\n",
    "        msg_in = input('INPUT: \\t')\n",
    "        msg_out = None\n",
    "        \n",
    "        #Check if the message wants to end\n",
    "        if end(msg_in):\n",
    "            msg_out = 'Goodbye!'\n",
    "            chatting = False\n",
    "            \n",
    "        #Check for several topics which are early defined to respond to\n",
    "        if not msg_out:\n",
    "            \n",
    "            #Initialize to collect a list of possible outputs\n",
    "            out = []\n",
    "            \n",
    "            #Check if message looks like a greeting, if so add a greeting output\n",
    "            out.append(selector(msg_in.split(), greeting_in, greeting_out)) \n",
    "            \n",
    "            #Check if message wants to reserve a ticket, if so add a place as output\n",
    "            out.append(selector(msg_in.split(), reserve_in, reserve_out))\n",
    "            \n",
    "            #Check if message wants Tokyo's ticket, if so respond Tokyo's available dates\n",
    "            if 'Tokyo' in msg_in:\n",
    "                msg_out = '1101 or 1112 or 1113 or 1122 or 1123 or 1218 or 1219'\n",
    "            \n",
    "            #Check if message wants Osaka's ticket, if so respond Osaka's available dates\n",
    "            elif 'Osaka' in msg_in:\n",
    "                msg_out = '1119 or 1120 or 1127 or 1128'\n",
    "            \n",
    "            #Assign Tokyo's dates to Tokyo and Osaka's dates to Osaka\n",
    "            Tokyo = '1101 or 1112 or 1113 or 1122 or 1123 or 1218 or 1219'\n",
    "            Osaka = '1119 or 1120 or 1127 or 1128'\n",
    "            \n",
    "            #Check which date's ticket message would like and ask for confirmation\n",
    "            if msg_in in Tokyo or msg_in in Osaka:\n",
    "                msg_out = 'Do you want to confirm it?'\n",
    "                \n",
    "            #Check if message decides to reserve this live, if so add a confirmation output\n",
    "            out.append(selector(msg_in.split(), confirm_in, confirm_out))\n",
    "            \n",
    "            #We hope to avoid having no reply when we append None\n",
    "            #So we randomly select an output from the set of outputs that are not None\n",
    "            options = list(filter(None, out))\n",
    "            if options:\n",
    "                msg_out = random.choice(options)\n",
    "        \n",
    "        #Respond something if message wants to buy cd\n",
    "        if buy_cd(msg_in):\n",
    "            msg_out = 'We sell CD at the livehouse'\n",
    "        \n",
    "        #Respond something if message wants to know about fan meeting\n",
    "        if fan_meeting(msg_in):\n",
    "            msg_out = 'No there is not any fan meeting'\n",
    "            \n",
    "        #Respond something if message wants other artists' tickets\n",
    "        if other_artist(msg_in):\n",
    "            msg_out = 'Sorry we only sell tickets of Ryo'\n",
    "        \n",
    "        #Respond something if the message is not processed        \n",
    "        if not msg_out:\n",
    "            msg_out = random.choice(undefined)\n",
    "\n",
    "        print('OUTPUT:', msg_out)"
   ]
  },
  {
   "cell_type": "code",
   "execution_count": 3,
   "metadata": {},
   "outputs": [
    {
     "name": "stdout",
     "output_type": "stream",
     "text": [
      "INPUT: \tHi\n",
      "OUTPUT: Nice to meet you\n",
      "INPUT: \tI want to reserve a ticket\n",
      "OUTPUT: There are tickets for Tokyo.\n",
      "INPUT: \tWhat date for Tokyo\n",
      "OUTPUT: 1101 or 1112 or 1113 or 1122 or 1123 or 1218 or 1219\n",
      "INPUT: \t1218\n",
      "OUTPUT: Do you want to confirm it?\n",
      "INPUT: \tyes\n",
      "OUTPUT: Success!\n",
      "INPUT: \tThank you\n",
      "OUTPUT: yeah\n",
      "INPUT: \tWhere can I buy CD\n",
      "OUTPUT: We sell CD at the livehouse\n",
      "INPUT: \tIs there a fan meeting\n",
      "OUTPUT: No there is not any fan meeting\n",
      "INPUT: \tAny ideas on other artists?\n",
      "OUTPUT: Sorry we only sell tickets of Ryo\n",
      "INPUT: \talright\n",
      "OUTPUT: hmmm\n",
      "INPUT: \tQuit\n",
      "OUTPUT: Goodbye!\n"
     ]
    }
   ],
   "source": [
    "chat_with_me()"
   ]
  },
  {
   "cell_type": "code",
   "execution_count": null,
   "metadata": {},
   "outputs": [],
   "source": []
  }
 ],
 "metadata": {
  "kernelspec": {
   "display_name": "Python 3",
   "language": "python",
   "name": "python3"
  },
  "language_info": {
   "codemirror_mode": {
    "name": "ipython",
    "version": 3
   },
   "file_extension": ".py",
   "mimetype": "text/x-python",
   "name": "python",
   "nbconvert_exporter": "python",
   "pygments_lexer": "ipython3",
   "version": "3.6.7"
  }
 },
 "nbformat": 4,
 "nbformat_minor": 2
}
